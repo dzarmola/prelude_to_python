{
  "nbformat": 4,
  "nbformat_minor": 0,
  "metadata": {
    "colab": {
      "provenance": []
    },
    "kernelspec": {
      "name": "python3",
      "display_name": "Python 3"
    },
    "language_info": {
      "name": "python"
    }
  },
  "cells": [
    {
      "cell_type": "markdown",
      "source": [
        "### Playing with Python"
      ],
      "metadata": {
        "id": "Om81mOpbotJ0"
      }
    },
    {
      "cell_type": "code",
      "execution_count": null,
      "metadata": {
        "id": "bODsEIEHosbM"
      },
      "outputs": [],
      "source": [
        "# Whatever is in a line after \"#\" won't be interpreted\n",
        "print('Hello world!') # Python doesn't see me here"
      ]
    },
    {
      "cell_type": "code",
      "source": [
        "a = 1\n",
        "print(a)\n",
        "print(type(a))\n",
        "a = 2\n",
        "print(a)\n",
        "a = \"Some text\"\n",
        "print(a)\n",
        "print(type(a))"
      ],
      "metadata": {
        "id": "ViAaV-HmkkmA"
      },
      "execution_count": null,
      "outputs": []
    },
    {
      "cell_type": "code",
      "source": [
        "a_number = 1234\n",
        "print(\"a_number is a\", type(a_number))\n",
        "a_string = str(a_number)\n",
        "print(\"a_string is a\", type(a_string))\n",
        "also_a_number = int(a_string)\n",
        "print(\"also_a_number is a\", type(also_a_number))"
      ],
      "metadata": {
        "id": "UZvPkHaRb-IP"
      },
      "execution_count": null,
      "outputs": []
    },
    {
      "cell_type": "markdown",
      "source": [
        "Mutable vs immutable types"
      ],
      "metadata": {
        "id": "nlXVN4cBkvop"
      }
    },
    {
      "cell_type": "code",
      "source": [
        "my_list = [2,3] # AKA an array\n",
        "my_list.append(1)\n",
        "my_list.append(2)\n",
        "my_list.append(1)\n",
        "my_list.append(3)\n",
        "print(my_list)\n",
        "\n",
        "# you can convert to a list using list()"
      ],
      "metadata": {
        "id": "Jk0Bm8JrklcX"
      },
      "execution_count": null,
      "outputs": []
    },
    {
      "cell_type": "code",
      "source": [
        "my_set = set() # AKA hash set\n",
        "my_set.add(1)\n",
        "my_set.add(2)\n",
        "my_set.add(1)\n",
        "my_set.add(3)\n",
        "print(my_set)\n",
        "\n",
        "# you can convert to a set using set()"
      ],
      "metadata": {
        "id": "yXIOgiwTkll4"
      },
      "execution_count": null,
      "outputs": []
    },
    {
      "cell_type": "code",
      "source": [
        "my_dictionary = {'key':'value'} # AKA hash map\n",
        "my_dictionary['one'] = 1\n",
        "my_dictionary['two'] = 2\n",
        "my_dictionary['three'] = 3\n",
        "print(my_dictionary)\n",
        "my_dictionary['one'] = 5\n",
        "print(my_dictionary)\n",
        "\n",
        "# you can convert to a dictionary using dict() - but you need key:value pairs!"
      ],
      "metadata": {
        "id": "sCVFp8gVk0Z5"
      },
      "execution_count": null,
      "outputs": []
    },
    {
      "cell_type": "code",
      "source": [
        "my_tuple = (1,2,3)\n",
        "print(my_tuple)\n",
        "\n",
        "# you can convert to tuple using tuple()\n",
        "\n",
        "my_string = \"one, two, three\"\n",
        "print(my_string)"
      ],
      "metadata": {
        "id": "2N74Qpguk5Fd"
      },
      "execution_count": null,
      "outputs": []
    },
    {
      "cell_type": "code",
      "source": [
        "# In programming, numbering starts at 0\n",
        "# E.g. in word \"Python\" we have\n",
        "# \"P\" <- 0th letter\n",
        "# \"y\" <- 1st letter\n",
        "# \"t\" <- 2nd letter\n",
        "# (...)\n",
        "# \"n\" <- 5th letter\n",
        "\n",
        "# So every ordered collection of items (a list, a tuple, a string) of length N\n",
        "# has elements 0,...,N-1 - also known as indices.\n",
        "\n",
        "zeroth_letter = \"Python\"[0]\n",
        "print(zeroth_letter)\n",
        "\n",
        "second_element = [\"0th elem\", \"1st elem\", \"2nd elem\"][2]\n",
        "print(second_element)"
      ],
      "metadata": {
        "id": "szjDQN0h7upn"
      },
      "execution_count": null,
      "outputs": []
    },
    {
      "cell_type": "code",
      "source": [
        "# You can also number them elements from the end, with the last being -1\n",
        "# (or N-1 where N is the length).\n",
        "\n",
        "tuple_of_colours = (\"red\", \"white\", \"green\", \"black\", \"blue\")\n",
        "print(tuple_of_colours[-2])\n"
      ],
      "metadata": {
        "id": "8r30tfwR8z61"
      },
      "execution_count": null,
      "outputs": []
    },
    {
      "cell_type": "code",
      "source": [
        "index_of_green = tuple_of_colours.index(\"green\")\n",
        "print(index_of_green)\n",
        "print(tuple_of_colours[index_of_green])"
      ],
      "metadata": {
        "id": "kFZLAVlctUB1"
      },
      "execution_count": null,
      "outputs": []
    },
    {
      "cell_type": "markdown",
      "source": [
        "# Control Structures"
      ],
      "metadata": {
        "id": "jvKdJKoKQMoi"
      }
    },
    {
      "cell_type": "markdown",
      "source": [
        "```\n",
        "# if some_condition:\n",
        "#  something happening when some_condition is true\n",
        "#  other stuff with the same indentation so also only\n",
        "#  happening when some_condition is true\n",
        "# elif some_other_condition:\n",
        "#  something happening when some_condition is false, but some_other_condition is true\n",
        "# else:\n",
        "#  something happening in all other cases\n",
        "```\n",
        "Also, notice the whitespace (spaces, tabulation, new lines)"
      ],
      "metadata": {
        "id": "Yd2m-7e2k8Kc"
      }
    },
    {
      "cell_type": "code",
      "source": [
        "if False:\n",
        "  print(\"1\")\n",
        "print(\"2\")\n",
        "if True:\n",
        "  print(\"3\")\n",
        "print(\"4\")\n",
        "# What will be the result?"
      ],
      "metadata": {
        "id": "0O79gaKNumtO"
      },
      "execution_count": null,
      "outputs": []
    },
    {
      "cell_type": "code",
      "source": [
        "var = \"iable\"\n",
        "answer = 42\n",
        "if 3 < 2:\n",
        "  print(\"I'll eat my hat\")\n",
        "elif \"I\" in \"team\":\n",
        "  print(\"I'll eat two hats!\")\n",
        "elif answer == 42:\n",
        "  print(\"Maybe I'll eat some bacon?\")\n",
        "else:\n",
        "  print(\"I'll settle for a cheese sandwich\")\n"
      ],
      "metadata": {
        "id": "33NcS9y6lIMV"
      },
      "execution_count": null,
      "outputs": []
    },
    {
      "cell_type": "code",
      "source": [
        "#True values\n",
        "a = True\n",
        "b = False\n",
        "\n",
        "if a:\n",
        "  print(\"a is\", a)\n",
        "\n",
        "if b:\n",
        "  print(\"b is\", b)\n"
      ],
      "metadata": {
        "id": "py35XztAlJNH"
      },
      "execution_count": null,
      "outputs": []
    },
    {
      "cell_type": "code",
      "source": [
        "a = bool([1,2,3])\n",
        "b = bool([])\n",
        "print(\"a is\", a)\n",
        "print(\"b is\", b)\n",
        "\n",
        "\n",
        "if ['whatever']:\n",
        "  print(\"it was Truth\")"
      ],
      "metadata": {
        "id": "MT3ERJ8HlWJO"
      },
      "execution_count": null,
      "outputs": []
    },
    {
      "cell_type": "code",
      "source": [
        "a = 13\n",
        "b = 0\n",
        "c = -2.4\n",
        "\n",
        "print(\"a is\", bool(a))\n",
        "print(\"b is\", bool(b))\n",
        "print(\"c is\", bool(c))\n"
      ],
      "metadata": {
        "id": "SNKiV_fUle2S"
      },
      "execution_count": null,
      "outputs": []
    },
    {
      "cell_type": "code",
      "source": [
        "print(\"True or False is\", [1] or \"\")\n",
        "print(\"True and False is\", 13 and {} and True)\n"
      ],
      "metadata": {
        "id": "SJFrwWmFuRsA"
      },
      "execution_count": null,
      "outputs": []
    },
    {
      "cell_type": "code",
      "source": [
        "# How to print numbers from 1 to 10?\n",
        "print(1)\n",
        "print(2)\n",
        "print(3)\n",
        "print(4)\n",
        "print(5)\n",
        "print(6)\n",
        "print(7)\n",
        "print(8)\n",
        "print(9)\n",
        "print(10)"
      ],
      "metadata": {
        "id": "P2dqfkefUHkW"
      },
      "execution_count": null,
      "outputs": []
    },
    {
      "cell_type": "code",
      "source": [
        "for i in [1,2,3,4,5,6,7,8,9,10]:\n",
        "  print(i)"
      ],
      "metadata": {
        "id": "pSaHEgkwli2x"
      },
      "execution_count": null,
      "outputs": []
    },
    {
      "cell_type": "code",
      "source": [
        "# for variable in something_iterable:\n",
        "  # <our variable now contains whatever was next in something_iterable>\n",
        "  # do stuff"
      ],
      "metadata": {
        "id": "qFTvboiHQa1v"
      },
      "execution_count": null,
      "outputs": []
    },
    {
      "cell_type": "code",
      "source": [
        "# for loop\n",
        "#something_iterable = my_list\n",
        "#something_iterable = my_set\n",
        "#something_iterable = my_dictionary\n",
        "#something_iterable = my_tuple\n",
        "something_iterable = my_string\n",
        "\n",
        "cnt = 0\n",
        "for element in something_iterable:\n",
        "  print(element)\n",
        "  print(\"Current count is\", cnt)\n",
        "  cnt += 1\n"
      ],
      "metadata": {
        "id": "BQcQm0ecuX95"
      },
      "execution_count": null,
      "outputs": []
    },
    {
      "cell_type": "code",
      "source": [
        "my_number = 1\n",
        "while my_number <= 10:\n",
        "  print(my_number)\n",
        "  my_number = my_number+1"
      ],
      "metadata": {
        "id": "YN9SuLOZVsVo"
      },
      "execution_count": null,
      "outputs": []
    },
    {
      "cell_type": "code",
      "source": [
        "# while some_condition is True:\n",
        "  # do stuff\n",
        "  # <be careful, so that \"do stuff\" either changes the condition,\n",
        "  # or has some other way to break the loop - or we'll keep spinning forever>"
      ],
      "metadata": {
        "id": "qGgrw7WBQw4c"
      },
      "execution_count": null,
      "outputs": []
    },
    {
      "cell_type": "code",
      "source": [
        "my_number = 1\n",
        "while True:\n",
        "  print(my_number)\n",
        "  my_number += 1\n",
        "  break"
      ],
      "metadata": {
        "id": "zB--e9HilnHU"
      },
      "execution_count": null,
      "outputs": []
    },
    {
      "cell_type": "code",
      "source": [
        "# special loop keywords\n",
        "for i in [1,2,3,4,5,6,7,8,9,10]:\n",
        "  print(\"Number is\", i)\n",
        "  if not i % 7:\n",
        "    break\n",
        "  if i % 2 == 0:\n",
        "    print(\"  and it's divisible by 2\")\n",
        "    if not i % 3:\n",
        "      continue\n",
        "    print(\"    but not by 3!\")\n",
        "  else:\n",
        "    pass"
      ],
      "metadata": {
        "id": "9CA2vjnFlngK"
      },
      "execution_count": null,
      "outputs": []
    },
    {
      "cell_type": "markdown",
      "source": [
        "# Introduction to functions\n",
        "\n",
        "Functions are pieces of code that you write once, and then call in multiple places in code.\n",
        "\n",
        "They can take a `variable` as an `argument` to become more universal - e.g.\n",
        "a `math.sin(some_number)` would calculate it's sinus."
      ],
      "metadata": {
        "id": "A8LXA2W8QSZh"
      }
    },
    {
      "cell_type": "code",
      "source": [
        "# def function_name(argument_0, argument_1):\n",
        "#   things that this function does\n",
        "#   all within this indentation will happen\n",
        "\n",
        "# to call a function, you use:\n",
        "# function_name(some_arg, another_arg)"
      ],
      "metadata": {
        "id": "HlQ81Jp3N8t5"
      },
      "execution_count": null,
      "outputs": []
    },
    {
      "cell_type": "code",
      "source": [
        "def whatevs():\n",
        "  print(\"Well, here goes nothing\")\n",
        "\n",
        "whatevs()"
      ],
      "metadata": {
        "id": "fOwORMMtOq1d"
      },
      "execution_count": null,
      "outputs": []
    },
    {
      "cell_type": "code",
      "source": [
        "wonder_woman = \"Diana Prince\"\n",
        "\n",
        "def out_a_superhero(superhero):\n",
        "  print(superhero, \"is an undercover superhero!\")\n",
        "\n",
        "out_a_superhero(wonder_woman)\n"
      ],
      "metadata": {
        "id": "C9hbT4GqlxKl"
      },
      "execution_count": null,
      "outputs": []
    },
    {
      "cell_type": "code",
      "source": [
        "supergirl = \"Kara Danvers\"\n",
        "out_a_superhero(supergirl)\n",
        "\n",
        "out_a_superhero(\"Jean Grey\")\n"
      ],
      "metadata": {
        "id": "JNqeu8bvl4UP"
      },
      "execution_count": null,
      "outputs": []
    },
    {
      "cell_type": "code",
      "source": [
        "for person in [wonder_woman, supergirl, \"Jean Grey\", my_tuple, \"\"]:\n",
        "  out_a_superhero(person)"
      ],
      "metadata": {
        "id": "XA4fZaCH41SP"
      },
      "execution_count": null,
      "outputs": []
    },
    {
      "cell_type": "code",
      "source": [
        "out_a_superhero()"
      ],
      "metadata": {
        "id": "ROPqlNQWO7ee"
      },
      "execution_count": null,
      "outputs": []
    },
    {
      "cell_type": "code",
      "source": [
        "# If, when defining a function with arguments you give them some values\n",
        "# they will become the defaults\n",
        "def out_a_superhero_with_default(superhero=\"Aleksandra\"):\n",
        "  print(superhero, \"is an undercover superhero!\")\n",
        "\n",
        "out_a_superhero_with_default(wonder_woman)\n",
        "out_a_superhero_with_default()"
      ],
      "metadata": {
        "id": "Oml3h2wOl9gu"
      },
      "execution_count": null,
      "outputs": []
    },
    {
      "cell_type": "code",
      "source": [
        "# Specific type of funtions: an object's methods\n",
        "dictionary_named_sue = {\"somebody\":\"once told me\", \"the world\": \"is gonna roll me\"}\n",
        "print(dictionary_named_sue.keys())\n",
        "print(dictionary_named_sue.values())\n",
        "print(dictionary_named_sue.items())"
      ],
      "metadata": {
        "id": "OmR3fkT_mHGO"
      },
      "execution_count": null,
      "outputs": []
    },
    {
      "cell_type": "code",
      "source": [
        "bag_of_baloons = [\"red baloon\", \"blue baloon\", \"green baloon\"]\n",
        "bag_of_baloons.append(\"pink baloon\")\n",
        "while bag_of_baloons:\n",
        "  print(\"Popping\", bag_of_baloons.pop())\n",
        "print(bag_of_baloons)\n",
        "bag_of_baloons.append(\"pink baloon\")\n",
        "print(bag_of_baloons)"
      ],
      "metadata": {
        "id": "e2LaWaJkmMVJ"
      },
      "execution_count": null,
      "outputs": []
    },
    {
      "cell_type": "code",
      "source": [
        "a_couple_of_numbers = [4,2,6,1,7,3]\n",
        "print(a_couple_of_numbers)\n",
        "\n",
        "a_couple_of_numbers.reverse()\n",
        "print(a_couple_of_numbers)\n",
        "\n",
        "a_couple_of_numbers.sort()\n",
        "print(a_couple_of_numbers)\n",
        "\n",
        "a_couple_of_numbers.reverse()\n",
        "print(a_couple_of_numbers)"
      ],
      "metadata": {
        "id": "gFQ8FR7EmNn5"
      },
      "execution_count": null,
      "outputs": []
    },
    {
      "cell_type": "code",
      "source": [
        "my_ideal_breakfast = \"I would very much like a spinach sandwich\"\n",
        "print(my_ideal_breakfast)\n",
        "my_ideal_breakfast.replace(\"spinach\", \"bacon\")\n",
        "print(my_ideal_breakfast)\n"
      ],
      "metadata": {
        "id": "kbnNv7krvI2p"
      },
      "execution_count": null,
      "outputs": []
    },
    {
      "cell_type": "code",
      "source": [
        "print(my_ideal_breakfast.replace(\"spinach\", \"bacon\"))\n",
        "my_actual_ideal_breakfast = my_ideal_breakfast.replace(\"spinach\", \"bacon\")\n",
        "print(my_actual_ideal_breakfast)"
      ],
      "metadata": {
        "id": "WxOMSPRhPMte"
      },
      "execution_count": null,
      "outputs": []
    },
    {
      "cell_type": "code",
      "source": [
        "a_sentence = \"Exegi monumentum aere perennius\"\n",
        "words = a_sentence.split(\" \")\n",
        "print(words)\n"
      ],
      "metadata": {
        "id": "UoHVcPNXmUUN"
      },
      "execution_count": null,
      "outputs": []
    },
    {
      "cell_type": "code",
      "source": [
        "recovered = \" \".join(words)\n",
        "print(recovered)\n",
        "recovered_badly = \"--\".join(words)\n",
        "print(recovered_badly)"
      ],
      "metadata": {
        "id": "0tP0R-sb7dd0"
      },
      "execution_count": null,
      "outputs": []
    },
    {
      "cell_type": "code",
      "source": [
        "print(\"What's you favourite food?\")\n",
        "response = input()\n",
        "print(\"So you'd really like to get \" + response + \", would you?\")\n",
        "print(\"I'll give you a moment to rethink...\")\n",
        "print(\"So what's you favourite food?\")\n",
        "second_response = input()\n",
        "if response == second_response:\n",
        "  print(\"I see you are commited to\", response)\n",
        "else:\n",
        "  print(\"I see you've reconsidered:\", second_response, \"for the win!\")\n"
      ],
      "metadata": {
        "id": "pEf3fJyVkd2u"
      },
      "execution_count": null,
      "outputs": []
    },
    {
      "cell_type": "code",
      "source": [
        "import time\n",
        "print(\"Let's go to the future! It is now\", time.ctime())\n",
        "time.sleep(5)\n",
        "print(\"And we're in the future! It's\", time.ctime())\n",
        "\n"
      ],
      "metadata": {
        "id": "hYGXTKzYkfEo"
      },
      "execution_count": null,
      "outputs": []
    },
    {
      "cell_type": "code",
      "source": [
        "range_of_numbers_up_to_10 = range(10) # not inclusive on the right, so here it's <0, 10)\n",
        "print(range_of_numbers_up_to_10)\n",
        "print(list(range_of_numbers_up_to_10))\n"
      ],
      "metadata": {
        "id": "1XMiTXzWAIn6"
      },
      "execution_count": null,
      "outputs": []
    },
    {
      "cell_type": "code",
      "source": [
        "range_of_numbers_from_2_to_5 = range(2, 5) # That means <2, 5)\n",
        "print(range_of_numbers_from_2_to_5)\n",
        "print(list(range_of_numbers_from_2_to_5))"
      ],
      "metadata": {
        "id": "sewI0UjIAQwI"
      },
      "execution_count": null,
      "outputs": []
    },
    {
      "cell_type": "code",
      "source": [
        "import random\n",
        "\n",
        "# range gives us ~a list of values from 0 to argument-1\n",
        "for i in range(30):\n",
        "  print(random.randint(3,7), end=\" \")\n",
        "print()\n",
        "print('next print')\n"
      ],
      "metadata": {
        "id": "l2gj1RWhkxk5"
      },
      "execution_count": null,
      "outputs": []
    },
    {
      "cell_type": "code",
      "source": [
        "# write code (with a function) that asks for number of walls on a die, and rolls it for you\n",
        "def roll_a_die():\n",
        "  print(\"How many walls on a die do you need?\")\n",
        "  dice = int(input())\n",
        "  result = random.randint(1,dice)\n",
        "  print(result)\n",
        "\n",
        "roll_a_die()"
      ],
      "metadata": {
        "id": "8vwfAd2HOGsR"
      },
      "execution_count": null,
      "outputs": []
    },
    {
      "cell_type": "code",
      "source": [
        "sorted_letters = list(\"abcdefghijklmnopqrstuvwxyz\")\n",
        "random.shuffle(sorted_letters)\n",
        "print(sorted_letters)"
      ],
      "metadata": {
        "id": "ymtfNprSmeXI"
      },
      "execution_count": null,
      "outputs": []
    },
    {
      "cell_type": "code",
      "source": [
        "dinner_picker = [\"chicken nuggets\", \"spaghetti bolognese\", \"steak\", \"curry\",\"risotto\"]\n",
        "print(\"Today I'll eat\", random.choice(dinner_picker))"
      ],
      "metadata": {
        "id": "rBQ7yhBwj1z5"
      },
      "execution_count": null,
      "outputs": []
    },
    {
      "cell_type": "code",
      "source": [
        "J = 10\n",
        "Q = 10\n",
        "K = 10\n",
        "A = 1\n",
        "\n",
        "deck_of_cards = [2,3,4,5,6,7,8,9,10,J,Q,K,A] * 4\n",
        "random.shuffle(deck_of_cards)\n",
        "print(deck_of_cards)\n",
        "\n",
        "print(len(deck_of_cards))\n"
      ],
      "metadata": {
        "id": "psTuOi41mlbO"
      },
      "execution_count": null,
      "outputs": []
    },
    {
      "cell_type": "markdown",
      "source": [
        "# Let's play Blackjack!"
      ],
      "metadata": {
        "id": "9Qz4e1fSPnH_"
      }
    },
    {
      "cell_type": "code",
      "source": [
        "player_1_sum = deck_of_cards.pop() + deck_of_cards.pop()\n",
        "player_2_sum = deck_of_cards.pop() + deck_of_cards.pop()\n",
        "print(\"Remaining cards:\", len(deck_of_cards))\n",
        "\n",
        "player_1_in_game = True\n",
        "player_2_in_game = True\n",
        "\n",
        "while player_1_in_game or player_2_in_game and not player_1_sum >21 and not player_2_sum >21:\n",
        "  print(\"Current standing: player 1 has\", player_1_sum, \", player 2 has\", player_2_sum)\n",
        "  if player_1_in_game:\n",
        "    print(\"Player 1, do you fold?\")\n",
        "    resp = input()\n",
        "    if resp in ['y', 'yes', '<sad noise>']:\n",
        "      player_1_in_game = False\n",
        "    else:\n",
        "      player_1_sum += deck_of_cards.pop()\n",
        "      if player_1_sum > 21:\n",
        "        player_1_in_game = False\n",
        "  if player_2_in_game:\n",
        "    print(\"Player 2, do you fold?\")\n",
        "    resp = input()\n",
        "    if resp in ['y', 'yes', '<sad noise>']:\n",
        "      player_2_in_game = False\n",
        "    else:\n",
        "      player_2_sum += deck_of_cards.pop()\n",
        "      if player_2_sum > 21:\n",
        "        player_2_in_game = False\n",
        "print(\"Final standing: player 1 has\", player_1_sum, \", player 2 has\", player_2_sum)"
      ],
      "metadata": {
        "id": "tt0LMxTsTSC9"
      },
      "execution_count": null,
      "outputs": []
    },
    {
      "cell_type": "code",
      "source": [
        "winner = \"nobody\"\n",
        "if player_1_sum <= 21 and player_2_sum <= 21:\n",
        "  if player_2_sum > player_1_sum:\n",
        "    winner = \"Player 2\"\n",
        "  else:\n",
        "    winner = \"Player 1\"\n",
        "elif player_1_sum <= 21: # we already know the other one must be above 21\n",
        "  winner = \"Player 1\"\n",
        "elif player_2_sum <= 21: # we already know the other one must be above 21\n",
        "  winner = \"Player 2\"\n",
        "print(\"Drumroll for the winner...\", winner, \"!!!\")"
      ],
      "metadata": {
        "id": "obWBXx1MPdhS"
      },
      "execution_count": null,
      "outputs": []
    },
    {
      "cell_type": "markdown",
      "source": [
        "# Functions make the world go round"
      ],
      "metadata": {
        "id": "78qEBa4EPzk8"
      }
    },
    {
      "cell_type": "code",
      "source": [
        "# returning value from function\n",
        "\n",
        "def function_that_doesnt_return_a_thing(some_argument):\n",
        "  local_name = some_argument + \"-local\"\n",
        "  print(local_name)\n",
        "\n",
        "a=function_that_doesnt_return_a_thing(\"2\")\n",
        "\n",
        "print(function_that_doesnt_return_a_thing(\"2\"))\n"
      ],
      "metadata": {
        "id": "YSP7o8TqOy9-"
      },
      "execution_count": null,
      "outputs": []
    },
    {
      "cell_type": "code",
      "source": [
        "def function_that_will_return_something(some_argument):\n",
        "  local_name = some_argument + \"-local\"\n",
        "  return local_name\n",
        "\n",
        "a=function_that_will_return_something(\"2\")\n",
        "\n",
        "print(function_that_will_return_something(\"2\"))"
      ],
      "metadata": {
        "id": "NApY8iBXPNHR"
      },
      "execution_count": null,
      "outputs": []
    },
    {
      "cell_type": "markdown",
      "source": [
        "Our first game - how would you code a Rock-Paper-Scissors game?"
      ],
      "metadata": {
        "id": "lGsQ820SPVpG"
      }
    },
    {
      "cell_type": "code",
      "source": [],
      "metadata": {
        "id": "x8PPq2nvEm7d"
      },
      "execution_count": null,
      "outputs": []
    },
    {
      "cell_type": "code",
      "source": [
        "#@title Rock-Paper-Scissors I prepared earlier {display-mode: \"form\"}\n",
        "import random\n",
        "\n",
        "def rock_paper_scissors_player():\n",
        "  play = random.choice(['rock', 'paper', 'scissors'])\n",
        "  return play\n",
        "\n",
        "def will_player1_win(player1_choice, player2_choice):\n",
        "  player1_wins = [('rock', 'scissors'), ('paper','rock'), ('scissors', 'paper')]\n",
        "  if (player1_choice, player2_choice) in player1_wins:\n",
        "    return True\n",
        "  else:\n",
        "    return False\n",
        "\n",
        "def play_rock_paper_scissors():\n",
        "  print(\"Let's play rock-paper-scissors!\")\n",
        "  winner = None\n",
        "  while winner is None:\n",
        "    print('Pick \"rock\", \"paper\" or \"scissors\"')\n",
        "    picked = input()\n",
        "    while picked not in [\"rock\", \"paper\", \"scissors\"]:\n",
        "      print(\"...you should only choose from those three, retry.\")\n",
        "      picked = input()\n",
        "    enemy_picked = rock_paper_scissors_player()\n",
        "    if picked == enemy_picked:\n",
        "      print(\"You both picked \" + picked + \". Try again!\")\n",
        "    else:\n",
        "      winner = will_player1_win(picked, enemy_picked)\n",
        "  if winner:\n",
        "    print(\"Congrats! Your \"+ picked +\" won over your adversary's \" + enemy_picked)\n",
        "  else:\n",
        "    print(\"Boo! Your \"+ picked +\" lost to your adversary's \" + enemy_picked)\n",
        "\n",
        "play_rock_paper_scissors()"
      ],
      "metadata": {
        "id": "1jHNhxjEmw_a"
      },
      "execution_count": null,
      "outputs": []
    },
    {
      "cell_type": "markdown",
      "source": [
        "# Time for our Blackjack to get serious"
      ],
      "metadata": {
        "id": "qHq9fcn_P_aO"
      }
    },
    {
      "cell_type": "code",
      "source": [
        "def create_deck():\n",
        "  J = 10\n",
        "  Q = 10\n",
        "  K = 10\n",
        "  A = 1\n",
        "\n",
        "  deck_of_cards = [2,3,4,5,6,7,8,9,10,J,Q,K,A] * 4\n",
        "  random.shuffle(deck_of_cards)\n",
        "  return deck_of_cards"
      ],
      "metadata": {
        "id": "DIJxz1XdmMcw"
      },
      "execution_count": null,
      "outputs": []
    },
    {
      "cell_type": "code",
      "source": [
        "def get_card(deck):\n",
        "  return deck.pop()\n",
        "\n",
        "def ask_if_wants_to_continue(name):\n",
        "  print(name+\", do you fold?\")\n",
        "  resp = input()\n",
        "  if resp in ['y', 'yes', '<sad noise>', 'I give up']:\n",
        "    return False\n",
        "  else:\n",
        "    return True\n",
        "\n",
        "def player_lost(sum):\n",
        "  return sum > 21\n",
        "\n",
        "deck_of_cards = create_deck()\n",
        "player_1_sum = get_card(deck_of_cards) + get_card(deck_of_cards)\n",
        "player_2_sum = get_card(deck_of_cards) + get_card(deck_of_cards)\n",
        "print(\"Remaining cards:\", len(deck_of_cards))\n",
        "\n",
        "player_1_in_game = True\n",
        "player_2_in_game = True\n",
        "\n",
        "while player_1_in_game or player_2_in_game and not player_lost(player_1_sum) and not player_lost(player_2_sum):\n",
        "  print(\"Current standing: player 1 has\", player_1_sum, \"player 2 has\", player_2_sum)\n",
        "  if player_1_in_game:\n",
        "    player_1_in_game = ask_if_wants_to_continue(\"Player1\")\n",
        "  if player_2_in_game:\n",
        "    player_2_in_game = ask_if_wants_to_continue(\"Player2\")\n",
        "\n",
        "  if player_1_in_game:\n",
        "    player_1_sum += get_card(deck_of_cards)\n",
        "    if player_lost(player_1_sum):\n",
        "      player_1_in_game = False\n",
        "  if player_2_in_game:\n",
        "    player_2_sum += get_card(deck_of_cards)\n",
        "    if player_lost(player_2_sum):\n",
        "      player_2_in_game = False\n",
        "\n",
        "\n",
        "print(\"Final standing: player 1 has\", player_1_sum, \"player 2 has\", player_2_sum)\n",
        "winner = \"nobody\"\n",
        "if player_1_sum <= 21 and player_2_sum <= 21:\n",
        "  if player_2_sum > player_1_sum:\n",
        "    winner = \"Player 2\"\n",
        "  else:\n",
        "    winner = \"Player 1\"\n",
        "elif player_1_sum <= 21:\n",
        "  winner = \"Player 1\"\n",
        "elif player_2_sum <= 21:\n",
        "  winner = \"Player 2\"\n",
        "print(\"Drumroll for the winner...\", winner, \"!!!\")"
      ],
      "metadata": {
        "id": "Buqd17aIqrni"
      },
      "execution_count": null,
      "outputs": []
    },
    {
      "cell_type": "code",
      "source": [
        "class Player:\n",
        "  def __init__(self, name):\n",
        "    self.name = name\n",
        "    self.sum = 0\n",
        "    self.in_game = True\n",
        "\n",
        "  def draw_if_required_from(self, deck):\n",
        "    if self.in_game:\n",
        "      self.sum += deck.pop()\n",
        "      if self.lost():\n",
        "        self.in_game = False\n",
        "\n",
        "  def ask_if_wants_to_continue(self):\n",
        "    if not self.in_game:\n",
        "      return\n",
        "    print(self.name+\", do you fold?\")\n",
        "    resp = input()\n",
        "    if resp in ['y', 'yes', '<sad noise>']:\n",
        "      print(self.name, \" is folding.\")\n",
        "      self.in_game = False\n",
        "    #else:\n",
        "    #  self.in_game = True\n",
        "\n",
        "  def won_against(self, other_player):\n",
        "    if self.sum <= 21 and (self.sum > other_player.sum or other_player.lost()):\n",
        "      return True\n",
        "\n",
        "  def lost(self):\n",
        "    return self.sum > 21\n",
        "\n"
      ],
      "metadata": {
        "id": "44Ra5F4hsoCq"
      },
      "execution_count": null,
      "outputs": []
    },
    {
      "cell_type": "code",
      "source": [
        "def play_blackjack(player1, player2):\n",
        "  deck_of_cards = create_deck()\n",
        "  player1.draw_if_required_from(deck_of_cards)\n",
        "  player2.draw_if_required_from(deck_of_cards)\n",
        "  player1.draw_if_required_from(deck_of_cards)\n",
        "  player2.draw_if_required_from(deck_of_cards)\n",
        "\n",
        "  while player1.in_game or player2.in_game and not (player1.lost() or player2.lost()):\n",
        "    print(\"Current standing: player 1 has\", player1.sum, \"player 2 has\", player2.sum)\n",
        "    player1.ask_if_wants_to_continue()\n",
        "    player2.ask_if_wants_to_continue()\n",
        "    player1.draw_if_required_from(deck_of_cards)\n",
        "    player2.draw_if_required_from(deck_of_cards)\n",
        "  print(\"Final standing: player 1 has\", player1.sum, \"player 2 has\", player2.sum)\n",
        "\n",
        "  if player1.won_against(player2):\n",
        "    print(\"Drumroll for the winner...\", player1.name, \"!!!\")\n",
        "  elif player2.won_against(player1):\n",
        "    print(\"Drumroll for the winner...\", player2.name, \"!!!\")\n",
        "  else:\n",
        "    print(\"No winners here\")"
      ],
      "metadata": {
        "id": "l09UGRa_Y9QE"
      },
      "execution_count": null,
      "outputs": []
    },
    {
      "cell_type": "code",
      "source": [
        "player1 = Player(\"Jack\")\n",
        "player2 = Player(\"Jill\")\n",
        "\n",
        "play_blackjack(player1, player2)"
      ],
      "metadata": {
        "id": "uwbGWqgXVV0O"
      },
      "execution_count": null,
      "outputs": []
    },
    {
      "cell_type": "code",
      "source": [
        "# AI player\n",
        "class PlayerWithStrategy(Player):\n",
        "  def __init__(self, name, strategy):\n",
        "    self.name = name\n",
        "    self.sum = 0\n",
        "    self.in_game = True\n",
        "    self.strategy_fnc = strategy\n",
        "\n",
        "  def ask_if_wants_to_continue(self):\n",
        "    if not self.in_game:\n",
        "      return\n",
        "    self.in_game = self.strategy_fnc(self) #can be less code here\n",
        "    # note that since strategy_func is an \"external\" function, not actually\n",
        "    # defined within our Player class, we need to provide `self` as an argument\n",
        "    # so that our strategy knows what's the current situation"
      ],
      "metadata": {
        "id": "UL47vdUNpk1q"
      },
      "execution_count": null,
      "outputs": []
    },
    {
      "cell_type": "code",
      "source": [
        "def random_strategy(player):\n",
        "  if player.sum == 21:\n",
        "    return False # folds\n",
        "  return random.choice([False, True])"
      ],
      "metadata": {
        "id": "mPar4gqFQMN3"
      },
      "execution_count": null,
      "outputs": []
    },
    {
      "cell_type": "code",
      "source": [
        "player1 = Player(\"Player1\")\n",
        "player2 = PlayerWithStrategy(\"Player2\", random_strategy)\n",
        "\n",
        "play_blackjack(player1, player2)"
      ],
      "metadata": {
        "id": "gRojoxV0QOLA"
      },
      "execution_count": null,
      "outputs": []
    },
    {
      "cell_type": "code",
      "source": [
        "def careful_strategy(player):\n",
        "  if player.sum < 17:\n",
        "    return True # do not fold yet\n",
        "  else:\n",
        "    return False\n",
        "\n",
        "player1 = PlayerWithStrategy(\"Player1\", careful_strategy)\n",
        "player2 = PlayerWithStrategy(\"Player2\", random_strategy)\n",
        "\n",
        "play_blackjack(player1, player2)"
      ],
      "metadata": {
        "id": "DNksViDNwBmz"
      },
      "execution_count": null,
      "outputs": []
    },
    {
      "cell_type": "code",
      "source": [
        "player1_stats = []\n",
        "player2_stats = []\n",
        "#winner = []\n",
        "\n",
        "for i in range(30):\n",
        "  player1 = PlayerWithStrategy(\"Player1\", careful_strategy)\n",
        "  player2 = PlayerWithStrategy(\"Player2\", random_strategy)\n",
        "\n",
        "  play_blackjack(player1, player2)\n",
        "\n",
        "  player1_stats.append(player1.sum)\n",
        "  player2_stats.append(player2.sum)\n",
        "  #winner.append(get_result(player1,player2))\n",
        "\n",
        "print(player1_stats)\n",
        "print(player2_stats)\n",
        "#print(winner)"
      ],
      "metadata": {
        "id": "55v0iMdkwaXB"
      },
      "execution_count": null,
      "outputs": []
    },
    {
      "cell_type": "code",
      "source": [
        "def get_result(p1, p2):\n",
        "  if p1.won_against(p2):\n",
        "    return 1\n",
        "  elif p2.won_against(p1):\n",
        "    return 2\n",
        "  else:\n",
        "    return 0"
      ],
      "metadata": {
        "id": "a8QSyk8zVtoq"
      },
      "execution_count": null,
      "outputs": []
    },
    {
      "cell_type": "code",
      "source": [
        "p1_wins = []\n",
        "p1_wins_cnt = 0\n",
        "p2_wins = []\n",
        "p2_wins_cnt = 0\n",
        "for i in range(len(winner)):\n",
        "  w = winner[i]\n",
        "  if w == 1:\n",
        "    p1_wins_cnt += 1\n",
        "    p1_wins.append(i)\n",
        "  elif w == 2:\n",
        "    p2_wins_cnt += 1\n",
        "    p2_wins.append(i)\n",
        "print(\"Player1 (careful) wins: \", p1_wins_cnt)\n",
        "print(\"Player2 (random) wins: \", p2_wins_cnt)\n",
        "# pie chart of wins"
      ],
      "metadata": {
        "id": "FYqOgIrcWTuW"
      },
      "execution_count": null,
      "outputs": []
    },
    {
      "cell_type": "code",
      "source": [
        "import matplotlib\n",
        "\n",
        "matplotlib.pyplot.plot(range(30), player1_stats, \"b+\") # careful\n",
        "matplotlib.pyplot.plot(range(30), player2_stats, \"r+\") # random\n",
        "for p1_win in p1_wins:\n",
        "  matplotlib.pyplot.plot([p1_win], [player1_stats[p1_win]], \"bo\")\n",
        "for p2_win in p2_wins:\n",
        "  matplotlib.pyplot.plot([p2_win], [player2_stats[p2_win]], \"ro\")\n",
        "matplotlib.pyplot.axhline(21)\n",
        "matplotlib.pyplot.axhline(17, ls=\"-.\")\n"
      ],
      "metadata": {
        "id": "P8etgLeto5PB"
      },
      "execution_count": null,
      "outputs": []
    },
    {
      "cell_type": "code",
      "source": [
        "width = 0.3\n",
        "places1 = [x-width/2 for x in range(30)]\n",
        "places2 = [x+width/2 for x in range(30)]\n",
        "\n",
        "matplotlib.pyplot.bar(places1, player1_stats, width, label=\"Player 1\")\n",
        "matplotlib.pyplot.bar(places2, player2_stats, width, label=\"Player 2\")\n",
        "\n",
        "matplotlib.pyplot.axhline(21)\n",
        "\n",
        "matplotlib.pyplot.show()\n"
      ],
      "metadata": {
        "id": "zbGEBxHdlbt2"
      },
      "execution_count": null,
      "outputs": []
    },
    {
      "cell_type": "markdown",
      "source": [
        "# Let's play Quasar\n",
        "\n",
        "Quasar is a casino game from the Mass Effect universe, quite similar to Blackjack.\n",
        "\n",
        "Rules:\n",
        "1. You pay 50 credits to play\n",
        "2. Your payout depends on the score you get:\n",
        " - 18 gives you back your 50 credits\n",
        " - 19 gives you 100\n",
        " - 20 gives you 200\n",
        "3. You start with a random number between 0 and 20\n",
        "4. In each turn you have an option to get\n",
        " - a random number between 1 and 8\n",
        " - a random number between 4 and 7\n",
        " - payout and end the game"
      ],
      "metadata": {
        "id": "kbs5YftT_NDX"
      }
    },
    {
      "cell_type": "code",
      "source": [
        "# Let's play Quasar\n",
        "import random\n",
        "\n",
        "winnings = {18: 50, 19: 100, 20: 200}\n",
        "player_options = [\"1. 1-8\", \"2. 4-7\", \"3. Payout\"]\n",
        "max_value = 20\n",
        "game_cost = 50\n",
        "player_bank_account = 1000\n",
        "response = \"y\"\n",
        "\n",
        "while response == \"y\":\n",
        "  player_bank_account -= game_cost\n",
        "  player_score = random.randint(0,max_value)\n",
        "  while player_score <= max_value:\n",
        "    print(\"You score is %s. What do you want to do now?\" % player_score)\n",
        "    print(\"Your options: \" + \" \".join(player_options))\n",
        "    selection = input()\n",
        "    while int(selection) not in range(1, 4):\n",
        "      print(\"Select a number between 1 and 3\")\n",
        "      selection = input()\n",
        "    if selection == \"1\":\n",
        "      player_score += random.randint(1, 8)\n",
        "    elif selection == \"2\":\n",
        "      player_score += random.randint(4, 7)\n",
        "    else:\n",
        "      break\n",
        "  payout = winnings.get(player_score, 0)\n",
        "  player_bank_account += payout\n",
        "  print(\"You finished with %s points. Your payout is %s credits.\" % (player_score, payout))\n",
        "  print(\"Your bank account has %s credits. Play again? y/n\" % player_bank_account)\n",
        "  response = input()\n",
        "print(\"Thanks for playing!\")\n",
        "\n",
        "\n"
      ],
      "metadata": {
        "colab": {
          "base_uri": "https://localhost:8080/"
        },
        "id": "-bPSsWXKaNtq",
        "outputId": "20b5c324-4c39-49a1-d0ad-627322d918ac"
      },
      "execution_count": 1,
      "outputs": [
        {
          "output_type": "stream",
          "name": "stdout",
          "text": [
            "You score is 16. What do you want to do now?\n",
            "Your options: 1. 1-8 2. 4-7 3. Payout\n",
            "1\n",
            "You finished with 23 points. Your payout is 0 credits.\n",
            "Your bank account has 950 credits. Play again? y/n\n",
            "y\n",
            "You score is 2. What do you want to do now?\n",
            "Your options: 1. 1-8 2. 4-7 3. Payout\n",
            "2\n",
            "You score is 8. What do you want to do now?\n",
            "Your options: 1. 1-8 2. 4-7 3. Payout\n",
            "2\n",
            "You score is 14. What do you want to do now?\n",
            "Your options: 1. 1-8 2. 4-7 3. Payout\n",
            "2\n",
            "You score is 18. What do you want to do now?\n",
            "Your options: 1. 1-8 2. 4-7 3. Payout\n",
            "3\n",
            "You finished with 18 points. Your payout is 50 credits.\n",
            "Your bank account has 950 credits. Play again? y/n\n",
            "y\n",
            "You score is 5. What do you want to do now?\n",
            "Your options: 1. 1-8 2. 4-7 3. Payout\n",
            "1\n",
            "You score is 9. What do you want to do now?\n",
            "Your options: 1. 1-8 2. 4-7 3. Payout\n",
            "1\n",
            "You score is 17. What do you want to do now?\n",
            "Your options: 1. 1-8 2. 4-7 3. Payout\n",
            "1\n",
            "You score is 20. What do you want to do now?\n",
            "Your options: 1. 1-8 2. 4-7 3. Payout\n",
            "3\n",
            "You finished with 20 points. Your payout is 200 credits.\n",
            "Your bank account has 1100 credits. Play again? y/n\n",
            "n\n",
            "Thanks for playing!\n"
          ]
        }
      ]
    },
    {
      "cell_type": "code",
      "source": [],
      "metadata": {
        "id": "X4uEUaezdIKh"
      },
      "execution_count": null,
      "outputs": []
    }
  ]
}